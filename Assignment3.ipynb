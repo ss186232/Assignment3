{
 "cells": [
  {
   "cell_type": "code",
   "execution_count": 6,
   "metadata": {},
   "outputs": [
    {
     "name": "stdout",
     "output_type": "stream",
     "text": [
      "please insert the number :7\n",
      "Output:\n",
      "list of first n natural numbers:  7\n",
      "Answer:  5040\n"
     ]
    }
   ],
   "source": [
    "#Write a Python Program to implement your own myreduce() function which works exactly\n",
    "#like Python's built-in function reduce()\n",
    "#reduce funtion to multiple the given natural function \n",
    "\n",
    "def myreduce(num):\n",
    "    sum=1\n",
    "    for i in range(1,num+1):\n",
    "        sum=sum*i\n",
    "    return num,sum\n",
    "\n",
    "num=int(input(\"please insert the number :\"))\n",
    "\n",
    "output=myreduce(num)\n",
    "\n",
    "print(\"Output:\")\n",
    "print(\"list of first n natural numbers: \",output[0])\n",
    "print(\"Answer: \",output[1])"
   ]
  },
  {
   "cell_type": "code",
   "execution_count": 20,
   "metadata": {},
   "outputs": [
    {
     "name": "stdout",
     "output_type": "stream",
     "text": [
      "Enter the number :40\n",
      "list value: [1, 2, 3, 4, 5, 6, 7, 8, 9, 10, 11, 12, 13, 14, 15, 16, 17, 18, 19, 20, 21, 22, 23, 24, 25, 26, 27, 28, 29, 30, 31, 32, 33, 34, 35, 36, 37, 38, 39, 40]\n",
      "list of even number and multiple of 3: [6, 12, 18, 24, 30, 36]\n",
      "list of odd number and multiple of 3: [3, 9, 15, 21, 27, 33, 39]\n"
     ]
    }
   ],
   "source": [
    "#Write a Python program to implement your own myfilter() function which works exactly\n",
    "#like Python's built-in function filter()\n",
    "#filter program to find even and odd number from the list which multiple of 3\n",
    "\n",
    "num=int(input(\"Enter the number :\"))\n",
    "num_lst=list(range(1,num+1))\n",
    "\n",
    "def myfilter(num_lst):\n",
    "    even_lst=[]\n",
    "    odd_lst=[]\n",
    "    for i in range(1,num+1):\n",
    "        if i%3==0:\n",
    "            if i%2==0:\n",
    "                even_lst.append(i)\n",
    "            else:\n",
    "                odd_lst.append(i)\n",
    "    return even_lst,odd_lst\n",
    "\n",
    "output=myfilter(num_lst)\n",
    "\n",
    "print(\"list value:\",num_lst)\n",
    "print(\"list of even number and multiple of 3:\",output[0])\n",
    "print(\"list of odd number and multiple of 3:\",output[1])                \n",
    "    "
   ]
  },
  {
   "cell_type": "code",
   "execution_count": 2,
   "metadata": {},
   "outputs": [
    {
     "name": "stdout",
     "output_type": "stream",
     "text": [
      "['x', 'xx', 'xxx', 'xxxx', 'y', 'yy', 'yyy', 'yyyy', 'z', 'zz', 'zzz', 'zzzz']\n",
      "['x', 'y', 'z', 'xx', 'yy', 'zz', 'xxx', 'yyy', 'zzz', 'xxxx', 'yyyy', 'zzzz']\n",
      "[[2], [3], [4], [3], [4], [5], [4], [5], [6]]\n",
      "[[2, 3, 4, 5], [3, 4, 5, 6], [4, 5, 6, 7], [5, 6, 7, 8]]\n",
      "[(1, 1), (2, 1), (3, 1), (1, 2), (2, 2), (3, 2), (1, 3), (2, 3), (3, 3)]\n"
     ]
    }
   ],
   "source": [
    "#Implement List comprehensions to produce the following lists.\n",
    "\n",
    "#1\n",
    "given1=list('xyz')\n",
    "expected1=[i*j for i in given1 for j in range(1,5)]\n",
    "print(expected1)\n",
    "\n",
    "given2=list('xyz')\n",
    "expected2=[ j*i for j in range(1,5) for i in given2]\n",
    "print(expected2)\n",
    "\n",
    "given3=[2,3,4]\n",
    "expected3=[[i+j] for i in given3 for j in range(0,3)]\n",
    "print(expected3)\n",
    "\n",
    "given4=[2,3,4,5]\n",
    "expected4=[[i+j for j in range(0,4)] for i in given4]\n",
    "print(expected4)\n",
    "\n",
    "given5=[1,2,3]\n",
    "expected5=[(j,i) for i in given5 for j in range(1,4)]\n",
    "print(expected5)"
   ]
  },
  {
   "cell_type": "code",
   "execution_count": null,
   "metadata": {},
   "outputs": [],
   "source": []
  },
  {
   "cell_type": "code",
   "execution_count": null,
   "metadata": {},
   "outputs": [],
   "source": []
  },
  {
   "cell_type": "code",
   "execution_count": null,
   "metadata": {},
   "outputs": [],
   "source": []
  }
 ],
 "metadata": {
  "kernelspec": {
   "display_name": "Python 3",
   "language": "python",
   "name": "python3"
  },
  "language_info": {
   "codemirror_mode": {
    "name": "ipython",
    "version": 3
   },
   "file_extension": ".py",
   "mimetype": "text/x-python",
   "name": "python",
   "nbconvert_exporter": "python",
   "pygments_lexer": "ipython3",
   "version": "3.8.5"
  }
 },
 "nbformat": 4,
 "nbformat_minor": 4
}
